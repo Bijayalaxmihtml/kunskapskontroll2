{
 "cells": [
  {
   "cell_type": "markdown",
   "id": "dacf74e6",
   "metadata": {},
   "source": [
    "# NumPy"
   ]
  },
  {
   "cell_type": "markdown",
   "id": "01b2bf34",
   "metadata": {},
   "source": [
    "Read the links: https://numpy.org/doc/stable/user/quickstart.html  and https://numpy.org/doc/stable/user/basics.broadcasting.html  before solving the exercises. "
   ]
  },
  {
   "cell_type": "code",
   "execution_count": 1351,
   "id": "1f79e4a6",
   "metadata": {},
   "outputs": [],
   "source": [
    "import numpy as np"
   ]
  },
  {
   "cell_type": "markdown",
   "id": "7dae6889",
   "metadata": {},
   "source": [
    "### Print out the dimension (number of axes), shape, size and the datatype of the matrix A."
   ]
  },
  {
   "cell_type": "code",
   "execution_count": 1352,
   "id": "7b3678cd",
   "metadata": {},
   "outputs": [
    {
     "data": {
      "text/plain": [
       "array([[ 1,  2,  3,  4,  5],\n",
       "       [ 6,  7,  8,  9, 10],\n",
       "       [11, 12, 13, 14, 15]])"
      ]
     },
     "execution_count": 1352,
     "metadata": {},
     "output_type": "execute_result"
    }
   ],
   "source": [
    "A = np.arange(1, 16).reshape(3,5)\n",
    "A"
   ]
  },
  {
   "cell_type": "code",
   "execution_count": 1353,
   "id": "31d39235",
   "metadata": {},
   "outputs": [
    {
     "name": "stdout",
     "output_type": "stream",
     "text": [
      "Dimension of matrix A (number of axes) is : 2\n",
      "Shape: (3, 5)\n",
      "Size (number of elements): 15\n",
      "Data type: int32\n"
     ]
    }
   ],
   "source": [
    "print(\"Dimension of matrix A (number of axes) is :\", A.ndim)\n",
    "print(\"Shape:\", A.shape)\n",
    "print(\"Size (number of elements):\", A.size)\n",
    "print(\"Data type:\", A.dtype)"
   ]
  },
  {
   "cell_type": "markdown",
   "id": "e56d2a96",
   "metadata": {},
   "source": [
    "### Do the following computations on the matrices B and C: \n",
    "* Elementwise subtraction. \n",
    "* Elementwise multiplication. \n",
    "* Matrix multiplication (by default you should use the @ operator)."
   ]
  },
  {
   "cell_type": "code",
   "execution_count": 1354,
   "id": "a7053fbb",
   "metadata": {},
   "outputs": [
    {
     "name": "stdout",
     "output_type": "stream",
     "text": [
      "[[1 2 3]\n",
      " [4 5 6]\n",
      " [7 8 9]]\n",
      "\n",
      "[[2. 2. 2.]\n",
      " [2. 2. 2.]\n",
      " [2. 2. 2.]]\n"
     ]
    }
   ],
   "source": [
    "B = np.arange(1, 10).reshape(3, 3)\n",
    "C = np.ones((3, 3))*2\n",
    "\n",
    "print(B)\n",
    "print()\n",
    "print(C)"
   ]
  },
  {
   "cell_type": "code",
   "execution_count": 1355,
   "id": "3cd794ae",
   "metadata": {},
   "outputs": [
    {
     "name": "stdout",
     "output_type": "stream",
     "text": [
      "Elementwise Subtraction (B - C):\n",
      "[[-1  0  1]\n",
      " [ 2  3  4]\n",
      " [ 5  6  7]]\n",
      "\n"
     ]
    }
   ],
   "source": [
    "#Element wise subtraction\n",
    "subtraction = B - C\n",
    "print(\"Elementwise Subtraction (B - C):\")\n",
    "print(subtraction.astype(int))\n",
    "print()"
   ]
  },
  {
   "cell_type": "code",
   "execution_count": 1356,
   "id": "b06f6cc4",
   "metadata": {},
   "outputs": [
    {
     "name": "stdout",
     "output_type": "stream",
     "text": [
      "Elementwise multiplication (B * C):\n",
      "[[ 2  4  6]\n",
      " [ 8 10 12]\n",
      " [14 16 18]]\n",
      "\n"
     ]
    }
   ],
   "source": [
    "#Element wise multiplication\n",
    "multiplication = B * C\n",
    "print(\"Elementwise multiplication (B * C):\")\n",
    "print(multiplication.astype(int))\n",
    "print()"
   ]
  },
  {
   "cell_type": "code",
   "execution_count": 1357,
   "id": "76654a85",
   "metadata": {},
   "outputs": [
    {
     "name": "stdout",
     "output_type": "stream",
     "text": [
      "matrix_multiplication (B @ C):\n",
      "[[12 12 12]\n",
      " [30 30 30]\n",
      " [48 48 48]]\n",
      "\n"
     ]
    }
   ],
   "source": [
    "# Matrix wise multiplication\n",
    "matrix_multiplication = B @ C\n",
    "print(\"matrix_multiplication (B @ C):\")\n",
    "print(matrix_multiplication.astype(int))\n",
    "print()"
   ]
  },
  {
   "cell_type": "markdown",
   "id": "96030d53",
   "metadata": {},
   "source": [
    "### Do the following calculations on the matrix:\n",
    "* Exponentiate each number elementwise (use the np.exp function).\n",
    "\n",
    "* Calculate the minimum value in the whole matrix. \n",
    "* Calculcate the minimum value in each row. \n",
    "* Calculcate the minimum value in each column. \n",
    "\n",
    "\n",
    "* Find the index value for the minimum value in the whole matrix (hint: use np.argmin).\n",
    "* Find the index value for the minimum value in each row (hint: use np.argmin).\n",
    "\n",
    "\n",
    "* Calculate the sum for all elements.\n",
    "* Calculate the mean for each column. \n",
    "* Calculate the median for each column. "
   ]
  },
  {
   "cell_type": "code",
   "execution_count": 1358,
   "id": "f8a9166b",
   "metadata": {},
   "outputs": [
    {
     "name": "stdout",
     "output_type": "stream",
     "text": [
      "[[1 2 3]\n",
      " [4 5 6]\n",
      " [7 8 9]]\n"
     ]
    }
   ],
   "source": [
    "# Below are the given data for the questions set\n",
    "B = np.arange(1, 10).reshape(3, 3)\n",
    "print(B)"
   ]
  },
  {
   "cell_type": "code",
   "execution_count": 1359,
   "id": "28e9671d",
   "metadata": {},
   "outputs": [
    {
     "name": "stdout",
     "output_type": "stream",
     "text": [
      "Exponentiated Matrix (elementwise):\n",
      "[[   2    7   20]\n",
      " [  54  148  403]\n",
      " [1096 2980 8103]]\n",
      "\n"
     ]
    }
   ],
   "source": [
    "# Exponentiate each number elementwise\n",
    "exp_B = np.exp(B)\n",
    "print(\"Exponentiated Matrix (elementwise):\")\n",
    "print(exp_B.astype(int))\n",
    "print()"
   ]
  },
  {
   "cell_type": "code",
   "execution_count": 1360,
   "id": "48695b33",
   "metadata": {},
   "outputs": [
    {
     "name": "stdout",
     "output_type": "stream",
     "text": [
      "Minimum value in the whole matrix:\n",
      "1\n"
     ]
    }
   ],
   "source": [
    "# Calculate the minimum value in the whole matrix\n",
    "min_value = np.min(B)\n",
    "print(\"Minimum value in the whole matrix:\")\n",
    "print(min_value)"
   ]
  },
  {
   "cell_type": "code",
   "execution_count": 1361,
   "id": "7c60bc38",
   "metadata": {},
   "outputs": [
    {
     "name": "stdout",
     "output_type": "stream",
     "text": [
      "Minimum value in each row:\n",
      "[1 4 7]\n"
     ]
    }
   ],
   "source": [
    "# Calculate the minimum value in each row\n",
    "min_value_rows = np.min(B, axis=1)\n",
    "print(\"Minimum value in each row:\")\n",
    "print(min_value_rows)\n"
   ]
  },
  {
   "cell_type": "code",
   "execution_count": 1362,
   "id": "89914299",
   "metadata": {},
   "outputs": [
    {
     "name": "stdout",
     "output_type": "stream",
     "text": [
      "Minimum value in each column:\n",
      "[1 2 3]\n"
     ]
    }
   ],
   "source": [
    "#Calculate the minimum value in each column\n",
    "min_value_columns = np.min(B, axis=0)\n",
    "print(\"Minimum value in each column:\")\n",
    "print(min_value_columns)"
   ]
  },
  {
   "cell_type": "code",
   "execution_count": 1363,
   "id": "61f62a4e",
   "metadata": {},
   "outputs": [
    {
     "name": "stdout",
     "output_type": "stream",
     "text": [
      "Index of the minimum value in the whole matrix:\n",
      "0\n"
     ]
    }
   ],
   "source": [
    "#Find the index value for the minimum value in the whole matrix\n",
    "min_index = np.argmin(B)\n",
    "print(\"Index of the minimum value in the whole matrix:\")\n",
    "print(min_index)"
   ]
  },
  {
   "cell_type": "code",
   "execution_count": 1364,
   "id": "4fa28df5",
   "metadata": {},
   "outputs": [
    {
     "name": "stdout",
     "output_type": "stream",
     "text": [
      "Indices of the minimum value in each row:\n",
      "[0 0 0]\n"
     ]
    }
   ],
   "source": [
    "#Find the index value for the minimum value in each row\n",
    "min_indices_rows = np.argmin(B, axis=1)\n",
    "print(\"Indices of the minimum value in each row:\")\n",
    "print(min_indices_rows)"
   ]
  },
  {
   "cell_type": "code",
   "execution_count": 1365,
   "id": "e450bde8",
   "metadata": {},
   "outputs": [
    {
     "name": "stdout",
     "output_type": "stream",
     "text": [
      "Sum of all elements:\n",
      "45\n"
     ]
    }
   ],
   "source": [
    "#Calculate the sum for all elements\n",
    "sum_all = np.sum(B)\n",
    "print(\"Sum of all elements:\")\n",
    "print(sum_all)"
   ]
  },
  {
   "cell_type": "code",
   "execution_count": 1366,
   "id": "7b670aed",
   "metadata": {},
   "outputs": [
    {
     "name": "stdout",
     "output_type": "stream",
     "text": [
      "Mean of each column:\n",
      "[4 5 6]\n"
     ]
    }
   ],
   "source": [
    "#Calculate the mean for each column\n",
    "mean_columns = np.mean(B, axis=0)\n",
    "print(\"Mean of each column:\")\n",
    "print(mean_columns.astype(int))"
   ]
  },
  {
   "cell_type": "code",
   "execution_count": 1367,
   "id": "4afd9107",
   "metadata": {},
   "outputs": [
    {
     "name": "stdout",
     "output_type": "stream",
     "text": [
      "Median of each column:\n",
      "[4 5 6]\n"
     ]
    }
   ],
   "source": [
    "#Calculate the median for each column\n",
    "median_columns = np.median(B, axis=0)\n",
    "print(\"Median of each column:\")\n",
    "print(median_columns.astype(int))"
   ]
  },
  {
   "cell_type": "markdown",
   "id": "541eb7ba",
   "metadata": {},
   "source": [
    "### What does it mean when you provide fewer indices than axes when slicing? See example below."
   ]
  },
  {
   "cell_type": "code",
   "execution_count": 1368,
   "id": "9c8abf56",
   "metadata": {},
   "outputs": [
    {
     "name": "stdout",
     "output_type": "stream",
     "text": [
      "[[ 1  2  3  4  5]\n",
      " [ 6  7  8  9 10]\n",
      " [11 12 13 14 15]]\n"
     ]
    }
   ],
   "source": [
    "print(A)"
   ]
  },
  {
   "cell_type": "code",
   "execution_count": 1369,
   "id": "69415f7b",
   "metadata": {},
   "outputs": [
    {
     "data": {
      "text/plain": [
       "array([ 6,  7,  8,  9, 10])"
      ]
     },
     "execution_count": 1369,
     "metadata": {},
     "output_type": "execute_result"
    }
   ],
   "source": [
    "A[1]"
   ]
  },
  {
   "cell_type": "markdown",
   "id": "6c53541b",
   "metadata": {},
   "source": [
    "**Answer:**\n",
    "\n",
    "When we slice a multi-dimensional array and provide fewer indices than axes, NumPy assumes the missing indices are referring to the entire range of that axis. In this example A[1] has been sliced from the main matrix A.So Numpy assumes we're selecting all elements along the remaining axes of 1. Hence it is printing array([ 6,  7,  8,  9, 10])."
   ]
  },
  {
   "cell_type": "markdown",
   "id": "6652d0c9",
   "metadata": {},
   "source": [
    "### Iterating over multidimensional arrays is done with respect to the first axis, so in the example below we iterate through the rows. If you would like to iterate through the array *elementwise*, how would you do that?"
   ]
  },
  {
   "cell_type": "code",
   "execution_count": 1370,
   "id": "9459864f",
   "metadata": {},
   "outputs": [
    {
     "data": {
      "text/plain": [
       "array([[ 1,  2,  3,  4,  5],\n",
       "       [ 6,  7,  8,  9, 10],\n",
       "       [11, 12, 13, 14, 15]])"
      ]
     },
     "execution_count": 1370,
     "metadata": {},
     "output_type": "execute_result"
    }
   ],
   "source": [
    "A"
   ]
  },
  {
   "cell_type": "code",
   "execution_count": 1371,
   "id": "a671bb5a",
   "metadata": {},
   "outputs": [
    {
     "name": "stdout",
     "output_type": "stream",
     "text": [
      "[1 2 3 4 5]\n",
      "[ 6  7  8  9 10]\n",
      "[11 12 13 14 15]\n"
     ]
    }
   ],
   "source": [
    "for i in A:\n",
    "    print(i)"
   ]
  },
  {
   "cell_type": "code",
   "execution_count": 1372,
   "id": "f4e443a0",
   "metadata": {},
   "outputs": [
    {
     "name": "stdout",
     "output_type": "stream",
     "text": [
      "Row-wise iteration:\n",
      "[1 2 3 4 5]\n",
      "[ 6  7  8  9 10]\n",
      "[11 12 13 14 15]\n"
     ]
    }
   ],
   "source": [
    "# Default iteration (row-wise)\n",
    "print(\"Row-wise iteration:\")\n",
    "for row in A:\n",
    "    print(row)"
   ]
  },
  {
   "cell_type": "code",
   "execution_count": 1373,
   "id": "4fd95d74",
   "metadata": {},
   "outputs": [
    {
     "name": "stdout",
     "output_type": "stream",
     "text": [
      "Elementwise iteration (using nditer):\n",
      "1\n",
      "2\n",
      "3\n",
      "4\n",
      "5\n",
      "6\n",
      "7\n",
      "8\n",
      "9\n",
      "10\n",
      "11\n",
      "12\n",
      "13\n",
      "14\n",
      "15\n"
     ]
    }
   ],
   "source": [
    "# Elementwise iteration we can do by using numpy.nditer\n",
    "print(\"Elementwise iteration (using nditer):\")\n",
    "for elem in np.nditer(A):\n",
    "    print(elem)"
   ]
  },
  {
   "cell_type": "code",
   "execution_count": 1374,
   "id": "63a6bb70",
   "metadata": {},
   "outputs": [
    {
     "name": "stdout",
     "output_type": "stream",
     "text": [
      "Elementwise iteration (using ravel()):\n",
      "1\n",
      "2\n",
      "3\n",
      "4\n",
      "5\n",
      "6\n",
      "7\n",
      "8\n",
      "9\n",
      "10\n",
      "11\n",
      "12\n",
      "13\n",
      "14\n",
      "15\n"
     ]
    }
   ],
   "source": [
    "# Elementwise iteration using ravel()\n",
    "print(\"Elementwise iteration (using ravel()):\")\n",
    "for elem in A.ravel():\n",
    "    print(elem)"
   ]
  },
  {
   "cell_type": "code",
   "execution_count": 1375,
   "id": "273c4059",
   "metadata": {},
   "outputs": [
    {
     "name": "stdout",
     "output_type": "stream",
     "text": [
      "Elementwise iteration (using flatten()):\n",
      "1\n",
      "2\n",
      "3\n",
      "4\n",
      "5\n",
      "6\n",
      "7\n",
      "8\n",
      "9\n",
      "10\n",
      "11\n",
      "12\n",
      "13\n",
      "14\n",
      "15\n"
     ]
    }
   ],
   "source": [
    "# Elementwise iteration using flatten()\n",
    "print(\"Elementwise iteration (using flatten()):\")\n",
    "for elem in A.flatten():\n",
    "    print(elem)"
   ]
  },
  {
   "cell_type": "code",
   "execution_count": 1376,
   "id": "df8b6310",
   "metadata": {},
   "outputs": [
    {
     "name": "stdout",
     "output_type": "stream",
     "text": [
      "1\n",
      "2\n",
      "3\n",
      "4\n",
      "5\n",
      "6\n",
      "7\n",
      "8\n",
      "9\n",
      "10\n",
      "11\n",
      "12\n",
      "13\n",
      "14\n",
      "15\n"
     ]
    }
   ],
   "source": [
    "#Another way of printing element wise using a for loop\n",
    "for i in range(A.shape[0]):  # Loop over rows\n",
    "    for j in range(A.shape[1]):  # Loop over columns\n",
    "        print(A[i, j])"
   ]
  },
  {
   "cell_type": "code",
   "execution_count": 1377,
   "id": "4f394592",
   "metadata": {},
   "outputs": [
    {
     "name": "stdout",
     "output_type": "stream",
     "text": [
      "1\n",
      "2\n",
      "3\n",
      "4\n",
      "5\n",
      "6\n",
      "7\n",
      "8\n",
      "9\n",
      "10\n",
      "11\n",
      "12\n",
      "13\n",
      "14\n",
      "15\n"
     ]
    }
   ],
   "source": [
    "#Another way of printing element wise using reshape()\n",
    "for x in A.reshape(-1):  # -1 tells numpy to flatten the array\n",
    "    print(x)"
   ]
  },
  {
   "cell_type": "markdown",
   "id": "608a2583",
   "metadata": {},
   "source": [
    "### Explain what the code below does. More specifically, b has three axes - what does this mean? "
   ]
  },
  {
   "cell_type": "code",
   "execution_count": 1378,
   "id": "f8f9b26f",
   "metadata": {},
   "outputs": [
    {
     "name": "stdout",
     "output_type": "stream",
     "text": [
      " a = \n",
      "[ 0  1  2  3  4  5  6  7  8  9 10 11 12 13 14 15 16 17 18 19 20 21 22 23\n",
      " 24 25 26 27 28 29]\n",
      "\n",
      " b = \n",
      "[[[ 0  1  2  3  4]\n",
      "  [ 5  6  7  8  9]\n",
      "  [10 11 12 13 14]]\n",
      "\n",
      " [[15 16 17 18 19]\n",
      "  [20 21 22 23 24]\n",
      "  [25 26 27 28 29]]]\n"
     ]
    }
   ],
   "source": [
    "a = np.arange(30)\n",
    "b = a.reshape((2, 3, -1))\n",
    "print(\" a = \")\n",
    "print(a)\n",
    "print()\n",
    "print(\" b = \")\n",
    "print(b)"
   ]
  },
  {
   "cell_type": "markdown",
   "id": "863a45df",
   "metadata": {},
   "source": [
    "a = np.arange(30):\n",
    "\n",
    "This line creates a 1D array called a with numbers starting from 0 up to 29.\n",
    "\n",
    "b = a.reshape((2, 3, -1)):\n",
    "\n",
    "This reshapes the 1D array a into a 3D array b. The shape is (2, 3, ?).\n",
    "The first dimension, 2, means there are 2 blocks in the array.\n",
    "The second dimension, 3, means each block will have 3 rows.\n",
    "The third dimension, -1, is calculated automatically by NumPy based on the total number of elements in a. \n",
    "Since the total number of elements is 30, and we already set the first two dimensions (2 and 3), \n",
    "Total elements in a: 30.\n",
    "Dividing 30 by 2×3: 30/6=5\n",
    ", so the third dimension becomes 5.\n",
    "The final shape of b: (2, 3, 5).\n",
    "\n",
    "First, the original 1D array a is printed.\n",
    "Then, the reshaped 3D array b is printed.print\n",
    "The 3D array b has three dimensions, which are called axes:\n",
    "\n",
    "Axis 0 (Blocks):\n",
    "\n",
    "This is the first dimension. It represents the outermost structure of the array.\n",
    "b has 2 blocks.\n",
    "Axis 1 (Rows):\n",
    "\n",
    "This is the second dimension. It represents the rows inside each block.\n",
    "b has 3 rows in each block.\n",
    "Axis 2 (Columns):\n",
    "\n",
    "This is the third dimension. It represents the elements (columns) inside each row.\n",
    "b has 5 columns in each row.\n",
    "\n",
    "To access a specific element in b, we need three indices: [block, row, column].\n",
    "\n"
   ]
  },
  {
   "cell_type": "markdown",
   "id": "eed38bbb-dd20-4d23-837f-679aa3d3a067",
   "metadata": {},
   "source": [
    "The code reshapes a 1D array into a 3D array. The new array b has a shape (2, 3, 5), meaning:\n",
    "\n",
    "It has 2 blocks.\n",
    "Each block has 3 rows.\n",
    "Each row has 5 columns.\n",
    "By using three indices, we can access any element in the 3D array."
   ]
  },
  {
   "cell_type": "markdown",
   "id": "421c9607-819a-401d-949a-97424436fe29",
   "metadata": {},
   "source": [
    "### For the exercises below, read the document *\"matematik_yh_antonio_vektorer_matriser_utdrag\"*\n",
    "### Solutions to the exercises and recorded videos can be found here: https://github.com/AntonioPrgomet/matematik_foer_yh\n",
    "\n",
    "### If you find the exercises below very hard, do not worry. Try your best, that will be enough. "
   ]
  },
  {
   "cell_type": "markdown",
   "id": "ab5933d5",
   "metadata": {},
   "source": [
    "### Broadcasting\n",
    "**Read the following link about broadcasting: https://numpy.org/doc/stable/user/basics.broadcasting.html#basics-broadcasting**"
   ]
  },
  {
   "cell_type": "markdown",
   "id": "039805ba",
   "metadata": {},
   "source": [
    "### Remark on Broadcasting when doing Linear Algebra calculations in Python. "
   ]
  },
  {
   "cell_type": "markdown",
   "id": "c4bcc147",
   "metadata": {},
   "source": [
    "### From the mathematical rules of matrix addition, the operation below (m1 + m2) does not make sense. The reason is that matrix addition requires two matrices of the same size. In Python however, it works due to broadcasting rules in NumPy. So you must be careful when doing Linear Algebra calculations in Python since they do not follow the \"mathematical rules\". This can however easily be handled by doing some simple programming, for example validating that two matrices have the same shape is easy if you for instance want to add two matrices. "
   ]
  },
  {
   "cell_type": "code",
   "execution_count": 1379,
   "id": "1fd46778",
   "metadata": {},
   "outputs": [
    {
     "name": "stdout",
     "output_type": "stream",
     "text": [
      "[[2 3]\n",
      " [4 5]]\n"
     ]
    }
   ],
   "source": [
    "m1 = np.array([[1, 2], [3, 4]])\n",
    "m2 = np.array([1, 1])\n",
    "print(m1 + m2)"
   ]
  },
  {
   "cell_type": "markdown",
   "id": "047d6576",
   "metadata": {},
   "source": [
    "### The example below would also not be allowed if following the \"mathematical rules\" in Linear Algebra. But it works due to broadcasting in NumPy. "
   ]
  },
  {
   "cell_type": "code",
   "execution_count": 1380,
   "id": "5e6ef2e4",
   "metadata": {},
   "outputs": [
    {
     "name": "stdout",
     "output_type": "stream",
     "text": [
      "[2 3 4]\n"
     ]
    }
   ],
   "source": [
    "v1 = np.array([1, 2, 3])\n",
    "print(v1 + 1)"
   ]
  },
  {
   "cell_type": "code",
   "execution_count": 1381,
   "id": "e2cbae26",
   "metadata": {},
   "outputs": [
    {
     "name": "stdout",
     "output_type": "stream",
     "text": [
      "[[1 2]\n",
      " [3 4]]\n",
      "[2 2]\n"
     ]
    }
   ],
   "source": [
    "A = np.arange(1, 5).reshape(2,2)\n",
    "print(A)\n",
    "\n",
    "b = np.array([2, 2])\n",
    "print(b)"
   ]
  },
  {
   "cell_type": "markdown",
   "id": "722fd5cd",
   "metadata": {},
   "source": [
    "# Vector- and matrix algebra Exercises"
   ]
  },
  {
   "cell_type": "markdown",
   "id": "b63a3081-d976-4d9f-bfd0-a63917e79f7d",
   "metadata": {},
   "source": [
    "**Now you are going to create a function that can be reused every time you add or multiply matrices. The function is created so that we do the addition and multiplication according to the rules of vector- and matrix algebra.**\n",
    "\n",
    "**Create a function \"add_mult_matrices\" that takes two matrices as input arguments (validate that the input are of the type numpy.ndarray by using the isinstance function), a third argument that is either 'add' or 'multiply' that specifies if you want to add or multiply the matrices (validate that the third argument is either 'add' or 'multiply'). When doing matrix addition, validate that the matrices have the same size. When doing matrix multiplication, validate that the sizes conform (i.e. number of columns in the first matrix is equal to the number of rows in the second matrix).**"
   ]
  },
  {
   "cell_type": "code",
   "execution_count": 1382,
   "id": "3506f977-ac0a-473f-85bc-eec9f35dc498",
   "metadata": {},
   "outputs": [
    {
     "name": "stdout",
     "output_type": "stream",
     "text": [
      "Matrix Addition Result:\n",
      " [[ 7 11]\n",
      " [13 12]]\n",
      "Matrix Multiplication Result:\n",
      " [[28 49]\n",
      " [68 83]]\n"
     ]
    }
   ],
   "source": [
    "import numpy as np\n",
    "\n",
    "def add_mult_matrices(A, B, operation):\n",
    "    # Validate that the inputs are numpy arrays\n",
    "    if not isinstance(A, np.ndarray) or not isinstance(B, np.ndarray):\n",
    "        raise ValueError(\"Both inputs must be of type numpy.ndarray\")\n",
    "    \n",
    "    # Validate that the operation is either 'add' or 'multiply'\n",
    "    if operation not in ['add', 'multiply']:\n",
    "        raise ValueError(\"The operation must be either 'add' or 'multiply'\")\n",
    "    \n",
    "    # Matrix Addition\n",
    "    if operation == 'add':\n",
    "        # Validate that the matrices have the same shape for addition\n",
    "        if A.shape != B.shape:\n",
    "            raise ValueError(\"Matrices must have the same shape for addition\")\n",
    "        return A + B\n",
    "    \n",
    "    # Matrix Multiplication\n",
    "    elif operation == 'multiply':\n",
    "        # Validate that the number of columns of A is equal to the number of rows of B\n",
    "        if A.shape[1] != B.shape[0]:\n",
    "            raise ValueError(\"Number of columns of A must equal the number of rows of B for multiplication\")\n",
    "        return np.dot(A, B)\n",
    "\n",
    "# Example usage:\n",
    "A = np.array([[5, 3], [7, 9]])\n",
    "B = np.array([[2, 8], [6, 3]])\n",
    "\n",
    "# Addition example\n",
    "result_add = add_mult_matrices(A, B, 'add')\n",
    "print(\"Matrix Addition Result:\\n\", result_add)\n",
    "\n",
    "# Multiplication example\n",
    "result_multiply = add_mult_matrices(A, B, 'multiply')\n",
    "print(\"Matrix Multiplication Result:\\n\", result_multiply)\n"
   ]
  },
  {
   "cell_type": "markdown",
   "id": "8dad82d0-2359-4dff-8f5b-a57d3e34103c",
   "metadata": {},
   "source": [
    "### Solve all the exercises in chapter 10.1 in the book \"Matematik för yrkeshögskolan\" by using Python. "
   ]
  },
  {
   "cell_type": "markdown",
   "id": "6a9af164",
   "metadata": {},
   "source": [
    "### Define the Vector(In Python, numpy is use  for working with vectors and matrices. "
   ]
  },
  {
   "cell_type": "code",
   "execution_count": 1383,
   "id": "89df88af-3668-4d98-a0a4-e6d92eea0f89",
   "metadata": {},
   "outputs": [],
   "source": [
    "# import numpy and define the vector 𝑥.)\n",
    "import numpy as np\n",
    "x = np.array([4, 3])  ## x is represented as a NumPy array:x = [4,3]"
   ]
  },
  {
   "cell_type": "code",
   "execution_count": 1384,
   "id": "a775d042",
   "metadata": {},
   "outputs": [
    {
     "name": "stdout",
     "output_type": "stream",
     "text": [
      "(a) Dimension of x: 1\n"
     ]
    }
   ],
   "source": [
    "#10.1.1 (a) What dimension does the vector x have? Vilken dimension har vektorn x ?\n",
    "dimension = x.ndim\n",
    "print(f\"(a) Dimension of x: {dimension}\")"
   ]
  },
  {
   "cell_type": "code",
   "execution_count": 1385,
   "id": "e873428b",
   "metadata": {},
   "outputs": [
    {
     "name": "stdout",
     "output_type": "stream",
     "text": [
      "  First element: 5 * 4 = 20\n",
      "  Second element: 5 * 3 = 15\n",
      "5x: [20 15]\n"
     ]
    }
   ],
   "source": [
    "# 10.1.1 (b) Calculate 5x . Beräkna 5x.\n",
    "five_x = 5 * x # scalar multiplication (5 * [4, 3])\n",
    "print(f\"  First element: 5 * {x[0]} = {5 * x[0]}\")\n",
    "print(f\"  Second element: 5 * {x[1]} = {5 * x[1]}\")\n",
    "#Print the final result\n",
    "print(f\"5x: {five_x}\")"
   ]
  },
  {
   "cell_type": "code",
   "execution_count": 1386,
   "id": "11d9ad60",
   "metadata": {},
   "outputs": [
    {
     "name": "stdout",
     "output_type": "stream",
     "text": [
      "  First element: 3 * 4 = 12\n",
      "  Second element: 3 * 3 = 9\n",
      "(c) 3x: [12  9]\n"
     ]
    }
   ],
   "source": [
    "#10.1.1 (c) Calculate 3𝑥. Beräkna 3x.\n",
    "x = np.array([4, 3])  # x = [4, 3]\n",
    "three_x = 3 * x # scalar multiplication (3 * [4, 3])\n",
    "print(f\"  First element: 3 * {x[0]} = {3 * x[0]}\")\n",
    "print(f\"  Second element: 3 * {x[1]} = {3 * x[1]}\")\n",
    "#Print the final result\n",
    "print(f\"(c) 3x: {three_x}\")"
   ]
  },
  {
   "cell_type": "code",
   "execution_count": 1387,
   "id": "3d505078",
   "metadata": {},
   "outputs": [
    {
     "name": "stdout",
     "output_type": "stream",
     "text": [
      "Vector x :\n",
      " [4 3]\n",
      " 5x = [20 15]\n",
      " 3x = [12  9]\n",
      "5x = [20 15], 3x = [12  9]\n",
      " Add 5x and 3x element-wise:\n",
      "  First element: 20 + 12 = 32\n",
      "  Second element: 15 + 9 = 24\n",
      "Result: 5x + 3x = [32 24]\n"
     ]
    }
   ],
   "source": [
    "#10.1.1 (d) Calculate 5𝑥 + 3𝑥. Beräkna 5x + 3x.\n",
    "x = np.array([4, 3])  # x = [4, 3]\n",
    "print(\"Vector x :\\n\",x)\n",
    "#  Calculate 5x\n",
    "five_x = 5 * x  # Scalar multiplication\n",
    "print(f\" 5x = {five_x}\")\n",
    "#  Calculate 3x\n",
    "three_x = 3 * x  # Scalar multiplication\n",
    "print(f\" 3x = {three_x}\")\n",
    "#  Perform element-wise addition\n",
    "sum_five_and_three_x = five_x + three_x  # Add corresponding elements\n",
    "print(f\"5x = {five_x}, 3x = {three_x}\")  # Show individual vectors\n",
    "print(f\" Add 5x and 3x element-wise:\")\n",
    "print(f\"  First element: {five_x[0]} + {three_x[0]} = {sum_five_and_three_x[0]}\")\n",
    "print(f\"  Second element: {five_x[1]} + {three_x[1]} = {sum_five_and_three_x[1]}\")\n",
    "print(f\"Result: 5x + 3x = {sum_five_and_three_x}\")\n"
   ]
  },
  {
   "cell_type": "code",
   "execution_count": 1388,
   "id": "e8de5212",
   "metadata": {},
   "outputs": [
    {
     "name": "stdout",
     "output_type": "stream",
     "text": [
      "  First element: 8 * 4 = 32\n",
      "  Second element: 8 * 3 = 24\n",
      "(e) 8x: [32 24]\n"
     ]
    }
   ],
   "source": [
    "#10.1.1 (e) Calculate 8𝑥. Beräkna 8x.\n",
    "x = np.array([4, 3])  # x = [4, 3]\n",
    "eight_x = 8 * x #  scalar multiplication (8 * [4, 3])\n",
    "print(f\"  First element: 8 * {x[0]} = {8 * x[0]}\")\n",
    "print(f\"  Second element: 8 * {x[1]} = {8 * x[1]}\")\n",
    "#Print the final result\n",
    "print(f\"(e) 8x: {eight_x}\")\n"
   ]
  },
  {
   "cell_type": "code",
   "execution_count": 1389,
   "id": "32ddcc86",
   "metadata": {},
   "outputs": [
    {
     "name": "stdout",
     "output_type": "stream",
     "text": [
      " 4x = [16 12]\n",
      " Subtract x from 4x:\n",
      "  First element: 16 - 4 = 12\n",
      "  Second element: 12 - 3 = 9\n",
      "(f) 4x - x: [12  9]\n"
     ]
    }
   ],
   "source": [
    "#10.1.1 (f) Calculate 4𝑥 − 𝑥. Beräkna 4x − x.\n",
    "x = np.array([4, 3])  # x = [4, 3]\n",
    "# Calculate 4x\n",
    "four_x = 4 * x  # Scalar multiplication\n",
    "print(f\" 4x = {four_x}\")\n",
    "# Subtract x from 4x\n",
    "four_x_minus_x = four_x - x  # Element-wise subtraction\n",
    "print(f\" Subtract x from 4x:\")\n",
    "print(f\"  First element: {four_x[0]} - {x[0]} = {four_x_minus_x[0]}\")\n",
    "print(f\"  Second element: {four_x[1]} - {x[1]} = {four_x_minus_x[1]}\")\n",
    "\n",
    "# Print the final result\n",
    "print(f\"(f) 4x - x: {four_x_minus_x}\")\n"
   ]
  },
  {
   "cell_type": "code",
   "execution_count": 1390,
   "id": "4fdbbb12",
   "metadata": {},
   "outputs": [
    {
     "name": "stdout",
     "output_type": "stream",
     "text": [
      "Original vector x: [4 3] (Shape: (2,))\n",
      "Reshaping x to a column vector:\n",
      "Transpose of x:\n",
      "[[4]\n",
      " [3]]\n",
      "(g) Dimension after transpose: (2, 1)\n"
     ]
    }
   ],
   "source": [
    "#10.1.1 (g) Transpose of 𝑥. Ber¨akna x⊤, vilken blir den nya dimensionen efter att transponeringen utf¨orts?\n",
    "x = np.array([4, 3])  # x = [4, 3]\n",
    "x_transpose = x.reshape(-1, 1)  # Reshape to a column vector\n",
    "# Print intermediate results\n",
    "print(f\"Original vector x: {x} (Shape: {x.shape})\")\n",
    "print(f\"Reshaping x to a column vector:\")\n",
    "print(f\"Transpose of x:\\n{x_transpose}\")\n",
    "print(f\"(g) Dimension after transpose: {x_transpose.shape}\")\n"
   ]
  },
  {
   "cell_type": "code",
   "execution_count": 1391,
   "id": "27278d18",
   "metadata": {},
   "outputs": [
    {
     "name": "stdout",
     "output_type": "stream",
     "text": [
      "Original vector x: [4 3] (Shape: (2,))\n",
      "Transpose of x:\n",
      "[[4]\n",
      " [3]] (Shape: (2, 1))\n",
      "(h) Is x + xᵀ defined? False\n",
      "Since the sizes are different hence false indicates this addition is not possible\n"
     ]
    }
   ],
   "source": [
    "#10.1.1 (h) Is 𝑥 + 𝑥⊤ defined? Är x + x ⊤ definierat?\n",
    "x_transpose = x.reshape(-1, 1)  # Transpose of x\n",
    "\n",
    "# Check if addition is defined\n",
    "is_defined = x.shape == x_transpose.shape  # Check if shapes are equal\n",
    "\n",
    "#  Print the results\n",
    "print(f\"Original vector x: {x} (Shape: {x.shape})\")\n",
    "print(f\"Transpose of x:\\n{x_transpose} (Shape: {x_transpose.shape})\")\n",
    "print(f\"(h) Is x + xᵀ defined? {is_defined}\")\n",
    "print(\"Since the sizes are different hence false indicates this addition is not possible\")\n"
   ]
  },
  {
   "cell_type": "code",
   "execution_count": 1392,
   "id": "acd8861f",
   "metadata": {},
   "outputs": [
    {
     "name": "stdout",
     "output_type": "stream",
     "text": [
      "Squares of each element in x: [16  9]\n",
      " Sum of squares: 25\n",
      " Square root of the sum of squares (norm): 5.0\n",
      "(i) ||x|| calculated using np.linalg.norm: 5.0\n"
     ]
    }
   ],
   "source": [
    "#10.1.1 (i) Calculate ∥x∥. Ber¨akna ∥x∥.\n",
    "x = np.array([4, 3])\n",
    "\n",
    "# Compute the squares of each element\n",
    "squares = x ** 2  # Element-wise squaring\n",
    "print(f\"Squares of each element in x: {squares}\")\n",
    "\n",
    "# Sum the squared elements\n",
    "sum_of_squares = np.sum(squares)  # Sum of the squared elements\n",
    "print(f\" Sum of squares: {sum_of_squares}\")\n",
    "\n",
    "# Take the square root of the sum\n",
    "norm_x = np.sqrt(sum_of_squares)  # Square root of the sum of squares\n",
    "print(f\" Square root of the sum of squares (norm): {norm_x}\")\n",
    "\n",
    "#  Alternatively, use np.linalg.norm for simplicity\n",
    "norm_x_direct = np.linalg.norm(x)\n",
    "print(f\"(i) ||x|| calculated using np.linalg.norm: {norm_x_direct}\")\n"
   ]
  },
  {
   "cell_type": "code",
   "execution_count": 1393,
   "id": "ec30523a",
   "metadata": {},
   "outputs": [
    {
     "name": "stdout",
     "output_type": "stream",
     "text": [
      "Vector v:\n",
      " [[ 3]\n",
      " [ 7]\n",
      " [ 0]\n",
      " [11]]\n"
     ]
    }
   ],
   "source": [
    "# Uppgift 10.1.2\n",
    "import numpy as np\n",
    "v = np.array([[3], [7], [0], [11]])  # Define the vector\n",
    "print(f\"Vector v:\\n {v}\")\n",
    "\n"
   ]
  },
  {
   "cell_type": "code",
   "execution_count": 1394,
   "id": "02198e41",
   "metadata": {},
   "outputs": [
    {
     "name": "stdout",
     "output_type": "stream",
     "text": [
      "Dimension of the vector: (1, 4)\n"
     ]
    }
   ],
   "source": [
    "#10.1.2 (a) Find the dimension of 𝑣. Vilken dimension har vektorn v?\n",
    "dimension_v = v.reshape(1, 4)  # Count the elements in v\n",
    "print(\"Dimension of the vector:\", dimension_v.shape)\n"
   ]
  },
  {
   "cell_type": "code",
   "execution_count": 1395,
   "id": "e84fe0d3",
   "metadata": {},
   "outputs": [
    {
     "name": "stdout",
     "output_type": "stream",
     "text": [
      "(b) 2v:\n",
      " [[ 6]\n",
      " [14]\n",
      " [ 0]\n",
      " [22]]\n"
     ]
    }
   ],
   "source": [
    "#10.1.2 (b) Calculate 2𝑣. Beräkna 2v.\n",
    "v = np.array([[3], [7], [0], [11]])\n",
    "\n",
    "# Calculate 2v by multiplying each element of v by 2\n",
    "two_v = 2 * v  # This is element-wise multiplication\n",
    "\n",
    "# Print the result\n",
    "print(f\"(b) 2v:\\n {two_v}\")\n"
   ]
  },
  {
   "cell_type": "code",
   "execution_count": 1396,
   "id": "c7ad40e3",
   "metadata": {},
   "outputs": [
    {
     "name": "stdout",
     "output_type": "stream",
     "text": [
      "Element-wise addition of 5v and 2v:\n",
      "5v[0] + 2v[0] = [15] + [6] = [21]\n",
      "5v[1] + 2v[1] = [35] + [14] = [49]\n",
      "5v[2] + 2v[2] = [0] + [0] = [0]\n",
      "5v[3] + 2v[3] = [55] + [22] = [77]\n",
      "\n",
      "The resulting vector (5v + 2v):\n",
      " [[21]\n",
      " [49]\n",
      " [ 0]\n",
      " [77]]\n"
     ]
    }
   ],
   "source": [
    "#10.1.2 (c) Calculate 5𝑣 + 2𝑣. Beräkna 5v + 2v.\n",
    "v = np.array([[3], [7], [0], [11]]) # Define the vector\n",
    "\n",
    "# Calculate 5v by multiplying each element of v by 5\n",
    "five_v = 5 * v  \n",
    "# Calculate 2v by multiplying each element of v by 2\n",
    "two_v = 2 * v  \n",
    "\n",
    "#  Add 5v and 2v element-wise\n",
    "print(\"Element-wise addition of 5v and 2v:\")\n",
    "for i in range(len(v)):  # Loop over each element\n",
    "    result = five_v[i] + two_v[i]\n",
    "    print(f\"5v[{i}] + 2v[{i}] = {five_v[i]} + {two_v[i]} = {result}\")\n",
    "\n",
    "# print the final result of 5v + 2v\n",
    "sum_five_and_two_v = five_v + two_v\n",
    "print(f\"\\nThe resulting vector (5v + 2v):\\n {sum_five_and_two_v}\")\n"
   ]
  },
  {
   "cell_type": "code",
   "execution_count": 1397,
   "id": "a2e15ccc",
   "metadata": {},
   "outputs": [
    {
     "name": "stdout",
     "output_type": "stream",
     "text": [
      "Element-wise subtraction of 4v and 2v:\n",
      "4v[0] - 2v[0] = [12] - [6] = [6]\n",
      "4v[1] - 2v[1] = [28] - [14] = [14]\n",
      "4v[2] - 2v[2] = [0] - [0] = [0]\n",
      "4v[3] - 2v[3] = [44] - [22] = [22]\n",
      "\n",
      "The resulting vector (4v - 2v):\n",
      " [[ 6]\n",
      " [14]\n",
      " [ 0]\n",
      " [22]]\n"
     ]
    }
   ],
   "source": [
    "#10.1.2 (d) Calculate 4𝑣 − 2𝑣. Beräkna 4v − 2v.\n",
    "v = np.array([[3], [7], [0], [11]]) # Define the vector\n",
    "\n",
    "# Calculate 4v by multiplying each element of v by 4\n",
    "four_v = 4 * v  \n",
    "# Calculate 2v by multiplying each element of v by 2\n",
    "two_v = 2 * v  \n",
    "#  Subtract  5v and 2v element-wise\n",
    "print(\"Element-wise subtraction of 4v and 2v:\")\n",
    "for i in range(len(v)):  # Loop over each element\n",
    "    result = four_v[i] - two_v[i]\n",
    "    print(f\"4v[{i}] - 2v[{i}] = {four_v[i]} - {two_v[i]} = {result}\")\n",
    "\n",
    "#  print the final result of 4v - 2v\n",
    "four_v_minus_two_v = four_v - two_v\n",
    "print(f\"\\nThe resulting vector (4v - 2v):\\n {four_v_minus_two_v}\")\n",
    "\n"
   ]
  },
  {
   "cell_type": "code",
   "execution_count": 1398,
   "id": "1a0690f2",
   "metadata": {},
   "outputs": [
    {
     "name": "stdout",
     "output_type": "stream",
     "text": [
      "Original vector v:\n",
      " [[ 3]\n",
      " [ 7]\n",
      " [ 0]\n",
      " [11]] (Shape: (4, 1))\n",
      "Reshaping x to a column vector:\n",
      "Transpose of v:\n",
      "[[ 3  7  0 11]]\n",
      "(e) Dimension after transpose: (1, 4)\n"
     ]
    }
   ],
   "source": [
    "#10.1.2 (e) Calculate v⊤, what will be the new dimension after the transposition is performed?\n",
    "#Beräkna v⊤, vilken blir den nya dimensionen efter atttransponeringen utförts?\n",
    "v = np.array([[3], [7], [0], [11]]) # Define the vector\n",
    "v_transpose = v.reshape(1, -1)  # Reshape to a row vector\n",
    "# Print intermediate results\n",
    "print(f\"Original vector v:\\n {v} (Shape: {v.shape})\")\n",
    "print(f\"Reshaping x to a column vector:\")\n",
    "print(f\"Transpose of v:\\n{v_transpose}\")\n",
    "print(f\"(e) Dimension after transpose: {v_transpose.shape}\")"
   ]
  },
  {
   "cell_type": "code",
   "execution_count": 1399,
   "id": "51492874",
   "metadata": {},
   "outputs": [
    {
     "name": "stdout",
     "output_type": "stream",
     "text": [
      "Squares of each element in v:\n",
      " [[  9]\n",
      " [ 49]\n",
      " [  0]\n",
      " [121]]\n",
      "Sum of squares: 179\n",
      "Square root of the sum of squares (norm): 13.379088160259652\n",
      "(f) ||v|| calculated using np.linalg.norm: 13.379088160259652\n"
     ]
    }
   ],
   "source": [
    "#10.1.2 (f) Calculate ∥v∥.Beräkna ∥v∥.\n",
    "v = np.array([[3], [7], [0], [11]]) # Define the vector\n",
    "squares = v ** 2  # Element-wise squaring\n",
    "print(f\"Squares of each element in v:\\n {squares}\")\n",
    "\n",
    "#  Sum the squared elements\n",
    "sum_of_squares = np.sum(squares)  # Sum of the squared elements\n",
    "print(f\"Sum of squares: {sum_of_squares}\")\n",
    "\n",
    "norm_v = np.sqrt(sum_of_squares)  # Square root of the sum of squares\n",
    "print(f\"Square root of the sum of squares (norm): {norm_v}\")\n",
    "\n",
    "#  use np.linalg.norm for simplicity\n",
    "norm_v_direct = np.linalg.norm(v)  # Use NumPy's built-in norm function\n",
    "print(f\"(f) ||v|| calculated using np.linalg.norm: {norm_v_direct}\")"
   ]
  },
  {
   "cell_type": "code",
   "execution_count": 1400,
   "id": "58082981",
   "metadata": {},
   "outputs": [
    {
     "name": "stdout",
     "output_type": "stream",
     "text": [
      "Squares of each element in v1: [16  9  1 25]\n",
      "Sum of squares: 51\n",
      "Square root of the sum of squares (norm): 7.14142842854285\n",
      "(a) ||v1|| calculated using np.linalg.norm: 7.14142842854285\n"
     ]
    }
   ],
   "source": [
    "# Uppgift 10.1.3 Define the vectors v1 = (4, 3, 1, 5) and v2 = (2, 3, 1, 1).\n",
    "#10.1.3 (a) Calculate ∥v1∥.Beräkna ∥v1∥.\n",
    "v1 = np.array([4, 3, 1, 5]) # Define the vector v1\n",
    "\n",
    "squares = v1 ** 2  # Element-wise squaring of v1\n",
    "print(f\"Squares of each element in v1: {squares}\")\n",
    "\n",
    "sum_of_squares = np.sum(squares)  # Sum of the squared elements\n",
    "print(f\"Sum of squares: {sum_of_squares}\")\n",
    "\n",
    "norm_v1 = np.sqrt(sum_of_squares)  # Square root of the sum of squares\n",
    "print(f\"Square root of the sum of squares (norm): {norm_v1}\")\n",
    "\n",
    "norm_v1_direct = np.linalg.norm(v1)  #  NumPy's built-in norm function\n",
    "print(f\"(a) ||v1|| calculated using np.linalg.norm: {norm_v1_direct}\")"
   ]
  },
  {
   "cell_type": "code",
   "execution_count": 1401,
   "id": "b14684af",
   "metadata": {},
   "outputs": [
    {
     "name": "stdout",
     "output_type": "stream",
     "text": [
      "v1[0] - v2[0] = 4 - 2 = 2\n",
      "v1[1] - v2[1] = 3 - 3 = 0\n",
      "v1[2] - v2[2] = 1 - 1 = 0\n",
      "v1[3] - v2[3] = 5 - 1 = 4\n",
      "\n",
      "The resulting vector (v1 - v2): [2 0 0 4]\n",
      "Squares of each element in v1: [ 4  0  0 16]\n",
      "Sum of squares: 20\n",
      "Square root of the sum of squares (norm): 4.47213595499958\n",
      "(b) ||v1 - v2||: 4.47213595499958\n"
     ]
    }
   ],
   "source": [
    "#10.1.3 (b) Calculate ∥v1 − v2∥.Beräkna ∥v1 − v2∥.\n",
    "\n",
    "v1 = np.array([4, 3, 1, 5]) # Define the vector v1\n",
    "v2 = np.array([2, 3, 1, 1]) # Define the vector v2\n",
    "\n",
    "#  Subtract v2 from v1 (element-wise subtraction)\n",
    "v1_minus_v2 = v1 - v2\n",
    "for i in range(len(v1)):  # Loop over each element\n",
    "    result = v1[i] - v2[i]\n",
    "    print(f\"v1[{i}] - v2[{i}] = {v1[i]} - {v2[i]} = {result}\")\n",
    "\n",
    "#  Calculate the norm of the resulting vector\n",
    "v1_minus_v2 = v1 - v2\n",
    "norm_v1_minus_v2 = np.linalg.norm(v1_minus_v2)\n",
    "print(f\"\\nThe resulting vector (v1 - v2): {v1_minus_v2}\")\n",
    "\n",
    "squares = v1_minus_v2 ** 2  # Element-wise squaring of v1\n",
    "print(f\"Squares of each element in v1: {squares}\")\n",
    "\n",
    "#  Sum the squared elements\n",
    "sum_of_squares = np.sum(squares)  # Sum of the squared elements\n",
    "print(f\"Sum of squares: {sum_of_squares}\")\n",
    "\n",
    "#  Take the square root of the sum (Euclidean norm)\n",
    "norm_v1 = np.sqrt(sum_of_squares)  # Square root of the sum of squares\n",
    "print(f\"Square root of the sum of squares (norm): {norm_v1}\")\n",
    "\n",
    "print(f\"(b) ||v1 - v2||: {norm_v1_minus_v2}\")"
   ]
  },
  {
   "cell_type": "markdown",
   "id": "75c98984-1f88-4df1-b850-d2466de444a5",
   "metadata": {},
   "source": [
    "### Solve all the exercises, except 10.2.4, in chapter 10.2 in the book \"Matematik för yrkeshögskolan\" by using Python. "
   ]
  },
  {
   "cell_type": "code",
   "execution_count": 1402,
   "id": "65371610-16e1-48b2-b7fb-65e49002608a",
   "metadata": {},
   "outputs": [],
   "source": [
    "#Uppgift 10.2.1. Define the matrices:\n",
    "import numpy as np\n",
    "\n",
    "# Define matrices\n",
    "A = np.array([[2, 1, -1], [1, -1, 1]])\n",
    "B = np.array([[4, -2, 1], [2, -4, -2]])\n",
    "C = np.array([[1, 2], [2, 1]])\n",
    "D = np.array([[3, 4], [4, 3]])\n",
    "E = np.array([[1], [2]])\n",
    "I = np.eye(2)  # Identity matrix"
   ]
  },
  {
   "cell_type": "code",
   "execution_count": 1403,
   "id": "28ec28ff",
   "metadata": {},
   "outputs": [
    {
     "name": "stdout",
     "output_type": "stream",
     "text": [
      "Matrix A :\n",
      " [[ 2  1 -1]\n",
      " [ 1 -1  1]]\n",
      "\n",
      "Result of 2A: \n",
      "[[ 4  2 -2]\n",
      " [ 2 -2  2]]\n"
     ]
    }
   ],
   "source": [
    "#If it is defined, perform the following calculations:\n",
    "#10.2.1 (a) 2A\n",
    "A = np.array([[2, 1, -1], [1, -1, 1]])\n",
    "print( \"Matrix A :\\n\", A)\n",
    "#  multiplication by 2 (2A)\n",
    "two_A = 2 * A\n",
    "\n",
    "\n",
    "#  Print the final result (2A)\n",
    "print(f\"\\nResult of 2A: \\n{two_A}\")"
   ]
  },
  {
   "cell_type": "code",
   "execution_count": 1404,
   "id": "d2d721cd",
   "metadata": {},
   "outputs": [
    {
     "name": "stdout",
     "output_type": "stream",
     "text": [
      "First row of A: [ 2  1 -1]\n",
      "  First element: 2 * 2 = 4\n",
      "  Second element: 2 * 1 = 2\n",
      "  Third element: 2 * -1 = -2\n",
      "Second row of A: [ 1 -1  1]\n",
      "  First element: 2 * 1 = 2\n",
      "  Second element: 2 * -1 = -2\n",
      "  Third element: 2 * 1 = 2\n",
      "\n",
      "Performing subtraction: B - 2A\n",
      "First row of B: [ 4 -2  1]\n",
      "  First element: 4 - 4 = 0\n",
      "  Second element: -2 - 2 = -4\n",
      "  Third element: 1 - -2 = 3\n",
      "Second row of B: [ 2 -4 -2]\n",
      "  First element: 2 - 2 = 0\n",
      "  Second element: -4 - -2 = -2\n",
      "  Third element: -2 - 2 = -4\n",
      "\n",
      "Final result of B - 2A: \n",
      "[[ 0 -4  3]\n",
      " [ 0 -2 -4]]\n"
     ]
    }
   ],
   "source": [
    "#10.2.1 (b) B − 2A\n",
    "A = np.array([[2, 1, -1], [1, -1, 1]])\n",
    "B = np.array([[4, -2, 1], [2, -4, -2]])#  scalar multiplication 2A\n",
    "two_A = 2 * A\n",
    "\n",
    "#  Print every  steps for 2A\n",
    "print(f\"First row of A: {A[0]}\")\n",
    "print(f\"  First element: 2 * {A[0][0]} = {2 * A[0][0]}\")\n",
    "print(f\"  Second element: 2 * {A[0][1]} = {2 * A[0][1]}\")\n",
    "print(f\"  Third element: 2 * {A[0][2]} = {2 * A[0][2]}\")\n",
    "\n",
    "print(f\"Second row of A: {A[1]}\")\n",
    "print(f\"  First element: 2 * {A[1][0]} = {2 * A[1][0]}\")\n",
    "print(f\"  Second element: 2 * {A[1][1]} = {2 * A[1][1]}\")\n",
    "print(f\"  Third element: 2 * {A[1][2]} = {2 * A[1][2]}\")\n",
    "\n",
    "#  matrix subtraction B - 2A\n",
    "result_B_minus_2A = B - two_A\n",
    "\n",
    "#  Print every steps for B - 2A (element-wise subtraction)\n",
    "print(\"\\nPerforming subtraction: B - 2A\")\n",
    "\n",
    "# First row subtraction\n",
    "print(f\"First row of B: {B[0]}\")\n",
    "print(f\"  First element: {B[0][0]} - {two_A[0][0]} = {B[0][0] - two_A[0][0]}\")\n",
    "print(f\"  Second element: {B[0][1]} - {two_A[0][1]} = {B[0][1] - two_A[0][1]}\")\n",
    "print(f\"  Third element: {B[0][2]} - {two_A[0][2]} = {B[0][2] - two_A[0][2]}\")\n",
    "\n",
    "# Second row subtraction\n",
    "print(f\"Second row of B: {B[1]}\")\n",
    "print(f\"  First element: {B[1][0]} - {two_A[1][0]} = {B[1][0] - two_A[1][0]}\")\n",
    "print(f\"  Second element: {B[1][1]} - {two_A[1][1]} = {B[1][1] - two_A[1][1]}\")\n",
    "print(f\"  Third element: {B[1][2]} - {two_A[1][2]} = {B[1][2] - two_A[1][2]}\")\n",
    "\n",
    "#  Print the final result of B - 2A\n",
    "print(f\"\\nFinal result of B - 2A: \\n{result_B_minus_2A}\")"
   ]
  },
  {
   "cell_type": "markdown",
   "id": "36721ab9",
   "metadata": {},
   "source": [
    "10.2.1 (c) 3C − 2E \n",
    "\n",
    "In this case, C has a shape of (2,2)(2 rows, 2 columns), and E has a shape of (2,1) \n",
    "(2 rows, 1 column). These matrices cannot be directly subtracted because their shapes don't align properly.\n",
    "However, NumPy supports broadcasting. Broadcasting allows NumPy to perform operations \n",
    "on arrays of different shapes in certain circumstances. The answer has been shown in below python code"
   ]
  },
  {
   "cell_type": "code",
   "execution_count": 1405,
   "id": "de88fa95",
   "metadata": {},
   "outputs": [
    {
     "name": "stdout",
     "output_type": "stream",
     "text": [
      "\n",
      "Result of 3C - 2E:\n",
      "[[ 1  4]\n",
      " [ 2 -1]]\n"
     ]
    }
   ],
   "source": [
    "# 10.2.1 (c) 3C − 2E\n",
    "\n",
    "C = np.array([[1, 2], [2, 1]])\n",
    "E = np.array([[1], [2]])\n",
    "\n",
    "\n",
    "# Scalar multiplication by 3 (3C)\n",
    "three_C = 3 * C\n",
    "# Scalar multiplication by 2 (2E)\n",
    "two_E = 2 * E\n",
    "\n",
    "result = three_C - two_E\n",
    "print(\"\\nResult of 3C - 2E:\")\n",
    "print(result)"
   ]
  },
  {
   "cell_type": "code",
   "execution_count": 1406,
   "id": "a90f4032",
   "metadata": {},
   "outputs": [
    {
     "name": "stdout",
     "output_type": "stream",
     "text": [
      "\n",
      "Matrix  2D: \n",
      "[[6 8]\n",
      " [8 6]]\n",
      "\n",
      "Matrix 3C: \n",
      "[[3 6]\n",
      " [6 3]]\n",
      "\n",
      "Result of 2D - 3C matrix:\n",
      "[[3 2]\n",
      " [2 3]]\n"
     ]
    }
   ],
   "source": [
    "#10.2.1 (d) 2D − 3C\n",
    "D = np.array([[3, 4], [4, 3]])\n",
    "C = np.array([[1, 2], [2, 1]])\n",
    "\n",
    "# Scalar multiplication by 2 (2E)\n",
    "two_D = 2 * D\n",
    "\n",
    "#  Print the  result (2D)\n",
    "print(f\"\\nMatrix  2D: \\n{two_D}\")\n",
    "\n",
    "# Scalar multiplication by 3 (3C)\n",
    "three_C = 3 * C\n",
    "\n",
    "#  Print the  result (3C)\n",
    "print(f\"\\nMatrix 3C: \\n{three_C}\")\n",
    "\n",
    "#  the element-wise subtraction 2D - 3C\n",
    "result = two_D - three_C\n",
    "print(\"\\nResult of 2D - 3C matrix:\")\n",
    "print(result)\n",
    "\n"
   ]
  },
  {
   "cell_type": "code",
   "execution_count": 1407,
   "id": "9dcd686a",
   "metadata": {},
   "outputs": [
    {
     "name": "stdout",
     "output_type": "stream",
     "text": [
      " Transpose of D (D^T):\n",
      "[[3 4]\n",
      " [4 3]]\n",
      "\n",
      " Scalar multiplication 2D:\n",
      "[[6 8]\n",
      " [8 6]]\n",
      "\n",
      "Result of D^T + 2D:\n",
      "[[ 9 12]\n",
      " [12  9]]\n"
     ]
    }
   ],
   "source": [
    "# 10.2.1  (e) D⊤ + 2D\n",
    "D = np.array([[3, 4], [4, 3]])\n",
    "#   the transpose of D (D^T)\n",
    "D_transpose = D.T\n",
    "print(\" Transpose of D (D^T):\")\n",
    "print(D_transpose)\n",
    "\n",
    "#   2D (scalar multiplication)\n",
    "two_D = 2 * D\n",
    "print(\"\\n Scalar multiplication 2D:\")\n",
    "print(two_D)\n",
    "\n",
    "#  Add D^T and 2D element-wise\n",
    "result = D_transpose + two_D\n",
    "print(\"\\nResult of D^T + 2D:\")\n",
    "print(result)\n"
   ]
  },
  {
   "cell_type": "code",
   "execution_count": 1408,
   "id": "594cca22",
   "metadata": {},
   "outputs": [
    {
     "name": "stdout",
     "output_type": "stream",
     "text": [
      "Transpose of C (C^T):\n",
      "[[1 2]\n",
      " [2 1]]\n",
      "\n",
      "Scalar multiplication 2C^T:\n",
      "[[2 4]\n",
      " [4 2]]\n",
      "\n",
      "Step 3: Transpose of D (D^T):\n",
      "[[3 4]\n",
      " [4 3]]\n",
      "\n",
      "Scalar multiplication 2D^T:\n",
      "[[6 8]\n",
      " [8 6]]\n",
      "\n",
      "Result of 2C^T - 2D^T:\n",
      "[[-4 -4]\n",
      " [-4 -4]]\n"
     ]
    }
   ],
   "source": [
    "# 10.2.1  (f) 2C⊤ − 2D⊤\n",
    "C = np.array([[1, 2], [2, 1]])\n",
    "D = np.array([[3, 4], [4, 3]])\n",
    "\n",
    "#  the transpose of C (C^T)\n",
    "C_transpose = C.T\n",
    "print(\"Transpose of C (C^T):\")\n",
    "print(C_transpose)\n",
    "\n",
    "#   2C^T (scalar multiplication)\n",
    "two_C_transpose = 2 * C_transpose\n",
    "print(\"\\nScalar multiplication 2C^T:\")\n",
    "print(two_C_transpose)\n",
    "\n",
    "#   the transpose of D (D^T)\n",
    "D_transpose = D.T\n",
    "print(\"\\nStep 3: Transpose of D (D^T):\")\n",
    "print(D_transpose)\n",
    "\n",
    "# 2D^T (scalar multiplication)\n",
    "two_D_transpose = 2 * D_transpose\n",
    "print(\"\\nScalar multiplication 2D^T:\")\n",
    "print(two_D_transpose)\n",
    "\n",
    "#  element-wise subtraction 2C^T - 2D^T\n",
    "result = two_C_transpose - two_D_transpose\n",
    "# Final result\n",
    "print(\"\\nResult of 2C^T - 2D^T:\")\n",
    "print(result)\n",
    "\n",
    "\n"
   ]
  },
  {
   "cell_type": "code",
   "execution_count": 1409,
   "id": "f1146b59",
   "metadata": {},
   "outputs": [
    {
     "name": "stdout",
     "output_type": "stream",
     "text": [
      "A Transpose (A^T):\n",
      "[[ 2  1]\n",
      " [ 1 -1]\n",
      " [-1  1]]\n",
      "\n",
      "Matrix B:\n",
      "[[ 4 -2  1]\n",
      " [ 2 -4 -2]]\n",
      "\n",
      "Error: Matrices A^T and B have different dimensions and cannot be subtracted.\n",
      "Details: operands could not be broadcast together with shapes (3,2) (2,3) \n"
     ]
    }
   ],
   "source": [
    "# 10.2.1 (g) A⊤ − B\n",
    "A = np.array([[2, 1, -1], [1, -1, 1]])\n",
    "B = np.array([[4, -2, 1], [2, -4, -2]])\n",
    "\n",
    "#  the transpose of A\n",
    "A_transpose = A.T\n",
    "print(\"A Transpose (A^T):\")\n",
    "print(A_transpose)\n",
    "\n",
    "print(\"\\nMatrix B:\")\n",
    "print(B)\n",
    "\n",
    "# Attempt to perform A^T - B\n",
    "try:\n",
    "    result = A_transpose - B\n",
    "    print(\"\\nResult of A^T - B:\")\n",
    "    print(result)\n",
    "except ValueError as e:\n",
    "    print(\"\\nError: Matrices A^T and B have different dimensions and cannot be subtracted.\")\n",
    "    print(f\"Details: {e}\")"
   ]
  },
  {
   "cell_type": "code",
   "execution_count": 1410,
   "id": "27b8cae2",
   "metadata": {},
   "outputs": [
    {
     "name": "stdout",
     "output_type": "stream",
     "text": [
      "\n",
      "Error: Matrices A and C have incompatible dimensions for multiplication.\n",
      "Details: shapes (2,3) and (2,2) not aligned: 3 (dim 1) != 2 (dim 0)\n",
      "\n",
      "Dimensions of A: (2, 3)\n",
      "Dimensions of C: (2, 2)\n"
     ]
    }
   ],
   "source": [
    "# 10.2.1 (h) AC\n",
    "A = np.array([[2, 1, -1], [1, -1, 1]])\n",
    "C = np.array([[1, 2], [2, 1]])\n",
    "\n",
    "# t matrix multiplication\n",
    "try:\n",
    "    result = np.dot(A, C)  # or A @ C\n",
    "    print(\"Result of AC:\")\n",
    "    print(result)\n",
    "except ValueError as e:\n",
    "    print(\"\\nError: Matrices A and C have incompatible dimensions for multiplication.\")\n",
    "    print(f\"Details: {e}\")\n",
    "\n",
    "# Print dimensions \n",
    "print(\"\\nDimensions of A:\", A.shape)\n",
    "print(\"Dimensions of C:\", C.shape)"
   ]
  },
  {
   "cell_type": "code",
   "execution_count": 1411,
   "id": "38d744c0",
   "metadata": {},
   "outputs": [
    {
     "name": "stdout",
     "output_type": "stream",
     "text": [
      "After matrix multiplication, the result matrix is\n",
      " [[11 10]\n",
      " [10 11]]\n"
     ]
    }
   ],
   "source": [
    "# 10.2.1 (i) CD\n",
    "C = np.array([[1, 2], [2, 1]])\n",
    "D = np.array([[3, 4], [4, 3]])\n",
    "\n",
    "print(\"After matrix multiplication, the result matrix is\\n\", C @ D)\n",
    "\n"
   ]
  },
  {
   "cell_type": "code",
   "execution_count": 1412,
   "id": "0d9ea488",
   "metadata": {},
   "outputs": [
    {
     "name": "stdout",
     "output_type": "stream",
     "text": [
      "Matrix C:\n",
      "[[1 2]\n",
      " [2 1]]\n",
      "\n",
      "Matrix B:\n",
      "[[ 4 -2  1]\n",
      " [ 2 -4 -2]]\n",
      "\n",
      "Final result of CB:\n",
      "[[  8 -10  -3]\n",
      " [ 10  -8   0]]\n"
     ]
    }
   ],
   "source": [
    "# 10.2.1 (j) CB\n",
    "C = np.array([[1, 2], [2, 1]])\n",
    "B = np.array([[4, -2, 1], [2, -4, -2]])\n",
    "\n",
    "result = np.dot(C, B)  #  equivalent to C @ B\n",
    "\n",
    "print(\"Matrix C:\")\n",
    "print(C)\n",
    "\n",
    "print(\"\\nMatrix B:\")\n",
    "print(B)\n",
    "\n",
    "\n",
    "# the  result\n",
    "print(\"\\nFinal result of CB:\")\n",
    "print(result)\n"
   ]
  },
  {
   "cell_type": "code",
   "execution_count": 1413,
   "id": "b9b15c3a",
   "metadata": {},
   "outputs": [
    {
     "data": {
      "text/plain": [
       "array([[1, 2],\n",
       "       [2, 1]])"
      ]
     },
     "execution_count": 1413,
     "metadata": {},
     "output_type": "execute_result"
    }
   ],
   "source": [
    "# 10.2.1 (k) CI\n",
    "C = np.array([[1, 2], [2, 1]])\n",
    "I = np.array([[1, 0], [0, 1]])\n",
    "\n",
    "C @ I"
   ]
  },
  {
   "cell_type": "code",
   "execution_count": 1414,
   "id": "14b42abf",
   "metadata": {},
   "outputs": [
    {
     "name": "stdout",
     "output_type": "stream",
     "text": [
      "Matrix C:\n",
      "[[1 2]\n",
      " [2 1]]\n",
      "Matrix I:\n",
      "[[1 0]\n",
      " [0 1]]\n",
      "\n",
      "Result of CI:\n",
      "[[1 2]\n",
      " [2 1]]\n"
     ]
    }
   ],
   "source": [
    "#10.2.1 (k) CI - Answer in another way\n",
    "C = np.array([[1, 2], [2, 1]])\n",
    "I = np.array([[1, 0], [0, 1]])\n",
    "\n",
    "print(\"Matrix C:\")\n",
    "print(C)\n",
    "\n",
    "print(\"Matrix I:\")\n",
    "print(I)\n",
    "\n",
    "result = np.dot(C, I)  #  is equivalent to C @ I\n",
    "\n",
    "# Print  multiplying C by I\n",
    "print(\"\\nResult of CI:\")\n",
    "print(result)"
   ]
  },
  {
   "cell_type": "code",
   "execution_count": 1415,
   "id": "3784a394",
   "metadata": {},
   "outputs": [
    {
     "name": "stdout",
     "output_type": "stream",
     "text": [
      "Matrix A:\n",
      "[[ 2  1 -1]\n",
      " [ 1 -1  1]]\n",
      "\n",
      "Matrix B:\n",
      "[[ 4 -2  1]\n",
      " [ 2 -4 -2]]\n",
      "\n",
      "Transpose of B (B^T):\n",
      "[[ 4  2]\n",
      " [-2 -4]\n",
      " [ 1 -2]]\n",
      "\n",
      "Result of AB^T:\n",
      "[[5 2]\n",
      " [7 4]]\n"
     ]
    }
   ],
   "source": [
    "# 10.2.1 (l) AB⊤\n",
    "A = np.array([[2, 1, -1], [1, -1, 1]])\n",
    "B = np.array([[4, -2, 1], [2, -4, -2]])\n",
    "\n",
    "B_T = B.T  # Transpose of matrix B\n",
    "\n",
    "# matrix multiplication: A * B^T\n",
    "result = np.dot(A, B_T)  #  equivalent to A @ B.T\n",
    "\n",
    "# Print the matrices and the result\n",
    "print(\"Matrix A:\")\n",
    "print(A)\n",
    "\n",
    "print(\"\\nMatrix B:\")\n",
    "print(B)\n",
    "\n",
    "print(\"\\nTranspose of B (B^T):\")\n",
    "print(B_T)\n",
    "\n",
    "print(\"\\nResult of AB^T:\")\n",
    "print(result)"
   ]
  },
  {
   "cell_type": "code",
   "execution_count": 1416,
   "id": "2a819a8e",
   "metadata": {},
   "outputs": [
    {
     "name": "stdout",
     "output_type": "stream",
     "text": [
      "Matrix A :\n",
      " [[2 3 4]\n",
      " [5 4 1]]\n",
      "Transpose Matrix of A i.e AT :\n",
      " [[2 5]\n",
      " [3 4]\n",
      " [4 1]]\n",
      "\n",
      " result of A * A^T:\n",
      "[[29 26]\n",
      " [26 42]]\n"
     ]
    }
   ],
   "source": [
    "# Uppgift 10.2.2. Definiera matrisen\n",
    "A = np.array([[2, 3, 4], [5, 4, 1]])\n",
    "print(\"Matrix A :\\n\", A)\n",
    "#  transpose of A (A^T)\n",
    "A_T = A.T\n",
    "print(\"Transpose Matrix of A i.e AT :\\n\", A_T)\n",
    "#  the matrix result\n",
    "result_A_A_T = A @ A_T\n",
    "print(\"\\n result of A * A^T:\")\n",
    "print(result_A_A_T)\n"
   ]
  },
  {
   "cell_type": "code",
   "execution_count": 1417,
   "id": "bbd75e5d",
   "metadata": {},
   "outputs": [
    {
     "name": "stdout",
     "output_type": "stream",
     "text": [
      " AB = A @ B\n",
      "AB matrix: \n",
      " [[ 4  7]\n",
      " [ 8 14]]\n",
      "\n",
      " AC = A @ C\n",
      "AC matrix: \n",
      " [[ 4  7]\n",
      " [ 8 14]]\n",
      "\n",
      " Verify if AB == AC:\n",
      "AB is equal to AC!\n",
      "\n",
      " Check if B != C:\n",
      "B is NOT equal to C!\n"
     ]
    }
   ],
   "source": [
    "# 10.2.3. Define the matrices. Verify that AB = AC but that B = C. \n",
    "# What we want to demonstrate with this example \n",
    "# is that we have defined a new mathematical object (matrices in this case) \n",
    "# and that the “usual rules” of arithmetic that \n",
    "# we learned from elementary school do not necessarily apply here.\n",
    "\n",
    "#  matrices A, B, and C\n",
    "A = np.array([[1, 2], [2, 4]])\n",
    "B = np.array([[2, 1], [1, 3]])\n",
    "C = np.array([[4, 3], [0, 2]])\n",
    "\n",
    "# matrix multiplication AB\n",
    "AB = np.dot(A, B)\n",
    "print(\" AB = A @ B\")\n",
    "print(\"AB matrix: \\n\", AB)\n",
    "\n",
    "#  matrix multiplication AC\n",
    "AC = np.dot(A, C)\n",
    "print(\"\\n AC = A @ C\")\n",
    "print(\"AC matrix: \\n\", AC)\n",
    "\n",
    "#  Verify if AB == AC (element-wise comparison)\n",
    "print(\"\\n Verify if AB == AC:\")\n",
    "if np.array_equal(AB, AC):\n",
    "    print(\"AB is equal to AC!\")\n",
    "else:\n",
    "    print(\"AB is NOT equal to AC!\")\n",
    "\n",
    "#  Check if B != C (element-wise comparison)\n",
    "print(\"\\n Check if B != C:\")\n",
    "if np.array_equal(B, C):\n",
    "    print(\"B is equal to C!\")\n",
    "else:\n",
    "    print(\"B is NOT equal to C!\")\n",
    "\n"
   ]
  },
  {
   "cell_type": "markdown",
   "id": "6a4a524f",
   "metadata": {},
   "source": [
    "### Copies and Views\n",
    "Read the following link: https://numpy.org/doc/stable/user/basics.copies.html"
   ]
  },
  {
   "cell_type": "markdown",
   "id": "6cbbeaf7",
   "metadata": {},
   "source": [
    "**Basic indexing creates a view, How can you check if v1 and v2 is a view or copy? If you change the last element in v2 to 123, will the last element in v1 be changed? Why?**"
   ]
  },
  {
   "cell_type": "code",
   "execution_count": 1418,
   "id": "5b9ef4df",
   "metadata": {},
   "outputs": [
    {
     "name": "stdout",
     "output_type": "stream",
     "text": [
      "[0 1 2 3]\n",
      "[2 3]\n"
     ]
    }
   ],
   "source": [
    "v1 = np.arange(4)\n",
    "v2 = v1[-2:]\n",
    "print(v1)\n",
    "print(v2)"
   ]
  },
  {
   "cell_type": "code",
   "execution_count": 1419,
   "id": "d2440489",
   "metadata": {},
   "outputs": [
    {
     "name": "stdout",
     "output_type": "stream",
     "text": [
      "None\n",
      "[0 1 2 3]\n"
     ]
    }
   ],
   "source": [
    "# The base attribute of a view returns the original array while it returns None for a copy.\n",
    "print(v1.base)\n",
    "print(v2.base)"
   ]
  },
  {
   "cell_type": "code",
   "execution_count": 1420,
   "id": "c8752807",
   "metadata": {},
   "outputs": [
    {
     "name": "stdout",
     "output_type": "stream",
     "text": [
      "[  0   1   2 123]\n",
      "[  2 123]\n"
     ]
    }
   ],
   "source": [
    "# The last element in v1 will be changed aswell since v2 is a view, meaning they share the same data buffer.\n",
    "v2[-1] = 123\n",
    "print(v1)\n",
    "print(v2)"
   ]
  },
  {
   "cell_type": "code",
   "execution_count": 1421,
   "id": "3dd68221",
   "metadata": {},
   "outputs": [
    {
     "name": "stdout",
     "output_type": "stream",
     "text": [
      "Original v1: [0 1 2 3]\n",
      "Sliced v2: [2 3]\n",
      "\n",
      "Base of v1: None\n",
      "Base of v2: [0 1 2 3]\n",
      "\n",
      "Modified v1: [  0   1   2 123]\n",
      "Modified v2: [  2 123]\n",
      "\n",
      "Explanation:\n",
      "Since v2 is a view of v1, they share the same underlying data buffer.\n",
      "Thus, modifying the data in v2 also modifies v1.\n"
     ]
    }
   ],
   "source": [
    "v1 = np.arange(4)  # Create a NumPy array [0, 1, 2, 3]\n",
    "print(\"Original v1:\", v1)\n",
    "\n",
    "#  Create a sliced view (v2) from v1\n",
    "v2 = v1[-2:]  # Slice v1 from index -2 to the end, which results in [2, 3]\n",
    "print(\"Sliced v2:\", v2)\n",
    "\n",
    "# to  check the base attribute to verify if v2 is a view of v1\n",
    "print(\"\\nBase of v1:\", v1.base)  # None because v1 is the original array\n",
    "print(\"Base of v2:\", v2.base)    # v1, since v2 is a view of v1\n",
    "\n",
    "#  Modify the last element of v2\n",
    "v2[-1] = 123  # Change the last element of v2 to 123\n",
    "print(\"\\nModified v1:\", v1)  # Should print [0 1 2 123]\n",
    "print(\"Modified v2:\", v2)    # Should print [2 123]\n",
    "\n",
    "#  Analyze why v1 is modified when v2 is modified\n",
    "print(\"\\nExplanation:\")\n",
    "print(\"Since v2 is a view of v1, they share the same underlying data buffer.\")\n",
    "print(\"Thus, modifying the data in v2 also modifies v1.\")"
   ]
  }
 ],
 "metadata": {
  "kernelspec": {
   "display_name": "base",
   "language": "python",
   "name": "python3"
  },
  "language_info": {
   "codemirror_mode": {
    "name": "ipython",
    "version": 3
   },
   "file_extension": ".py",
   "mimetype": "text/x-python",
   "name": "python",
   "nbconvert_exporter": "python",
   "pygments_lexer": "ipython3",
   "version": "3.12.7"
  }
 },
 "nbformat": 4,
 "nbformat_minor": 5
}
